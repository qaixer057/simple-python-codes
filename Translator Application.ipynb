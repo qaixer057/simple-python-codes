{
 "cells": [
  {
   "cell_type": "markdown",
   "metadata": {},
   "source": [
    "# Installation"
   ]
  },
  {
   "cell_type": "code",
   "execution_count": 18,
   "metadata": {},
   "outputs": [
    {
     "name": "stdout",
     "output_type": "stream",
     "text": [
      "Requirement already satisfied: googletrans in c:\\users\\user\\appdata\\local\\programs\\python\\python37\\lib\\site-packages (3.0.0)\n",
      "Requirement already satisfied: httpx==0.13.3 in c:\\users\\user\\appdata\\local\\programs\\python\\python37\\lib\\site-packages (from googletrans) (0.13.3)\n",
      "Requirement already satisfied: certifi in c:\\users\\user\\appdata\\local\\programs\\python\\python37\\lib\\site-packages (from httpx==0.13.3->googletrans) (2019.9.11)\n",
      "Requirement already satisfied: hstspreload in c:\\users\\user\\appdata\\local\\programs\\python\\python37\\lib\\site-packages (from httpx==0.13.3->googletrans) (2020.6.16)\n",
      "Requirement already satisfied: sniffio in c:\\users\\user\\appdata\\local\\programs\\python\\python37\\lib\\site-packages (from httpx==0.13.3->googletrans) (1.1.0)\n",
      "Requirement already satisfied: idna==2.* in c:\\users\\user\\appdata\\local\\programs\\python\\python37\\lib\\site-packages (from httpx==0.13.3->googletrans) (2.8)\n",
      "Requirement already satisfied: httpcore==0.9.* in c:\\users\\user\\appdata\\local\\programs\\python\\python37\\lib\\site-packages (from httpx==0.13.3->googletrans) (0.9.1)\n",
      "Requirement already satisfied: rfc3986<2,>=1.3 in c:\\users\\user\\appdata\\local\\programs\\python\\python37\\lib\\site-packages (from httpx==0.13.3->googletrans) (1.4.0)\n",
      "Requirement already satisfied: chardet==3.* in c:\\users\\user\\appdata\\local\\programs\\python\\python37\\lib\\site-packages (from httpx==0.13.3->googletrans) (3.0.4)\n",
      "Requirement already satisfied: h2==3.* in c:\\users\\user\\appdata\\local\\programs\\python\\python37\\lib\\site-packages (from httpcore==0.9.*->httpx==0.13.3->googletrans) (3.2.0)\n",
      "Requirement already satisfied: h11<0.10,>=0.8 in c:\\users\\user\\appdata\\local\\programs\\python\\python37\\lib\\site-packages (from httpcore==0.9.*->httpx==0.13.3->googletrans) (0.9.0)\n",
      "Requirement already satisfied: hyperframe<6,>=5.2.0 in c:\\users\\user\\appdata\\local\\programs\\python\\python37\\lib\\site-packages (from h2==3.*->httpcore==0.9.*->httpx==0.13.3->googletrans) (5.2.0)\n",
      "Requirement already satisfied: hpack<4,>=3.0 in c:\\users\\user\\appdata\\local\\programs\\python\\python37\\lib\\site-packages (from h2==3.*->httpcore==0.9.*->httpx==0.13.3->googletrans) (3.0.0)\n",
      "Note: you may need to restart the kernel to use updated packages.\n"
     ]
    }
   ],
   "source": [
    "pip install googletrans"
   ]
  },
  {
   "cell_type": "markdown",
   "metadata": {},
   "source": [
    "## Basic Usage"
   ]
  },
  {
   "cell_type": "code",
   "execution_count": 2,
   "metadata": {},
   "outputs": [
    {
     "name": "stdout",
     "output_type": "stream",
     "text": [
      "Please write text to be translater: わたしは、あなたを愛しています\n",
      "ja\n",
      "ur\n",
      "わたしは、あなたを愛しています\n",
      "میں تم سے پیار کرتا ہوں\n"
     ]
    }
   ],
   "source": [
    "from googletrans import  Translator\n",
    "\n",
    "print(googletrans.LANGUAGES) #use this to check the all available lanugages\n",
    "\n",
    "translator = Translator() # creating an instane of the Translarot class\n",
    "\n",
    "# text = 'わたしは、あなたを愛しています'\n",
    "\n",
    "text = input('Please write text to be translater: ') #get input in any langauge\n",
    "\n",
    "# if source is not provided the API detects the language source.\n",
    "# if destination language is not provided the default destination laungaue is set to english.\n",
    "\n",
    "result = translator.translate(text, dest='ur') #here Urdu is provided as destination langauge you can choose any lang.\n",
    "\n",
    "### this result will return following outputs which u can use to print the contents of the result \n",
    "\n",
    "print(result.src) # source langauge\n",
    "print(result.dest) # destinaion langauge\n",
    "print(result.origin) # original phrase or sentense\n",
    "print(result.text) # translated text\n",
    "# print(result.pronunciation)"
   ]
  },
  {
   "cell_type": "markdown",
   "metadata": {},
   "source": [
    "## Exploring the module"
   ]
  },
  {
   "cell_type": "code",
   "execution_count": 15,
   "metadata": {},
   "outputs": [
    {
     "data": {
      "text/plain": [
       "['LANGCODES',\n",
       " 'LANGUAGES',\n",
       " 'Translator',\n",
       " '__all__',\n",
       " '__builtins__',\n",
       " '__cached__',\n",
       " '__doc__',\n",
       " '__file__',\n",
       " '__loader__',\n",
       " '__name__',\n",
       " '__package__',\n",
       " '__path__',\n",
       " '__spec__',\n",
       " '__version__',\n",
       " 'client',\n",
       " 'constants',\n",
       " 'gtoken',\n",
       " 'models',\n",
       " 'urls',\n",
       " 'utils']"
      ]
     },
     "execution_count": 15,
     "metadata": {},
     "output_type": "execute_result"
    }
   ],
   "source": [
    "# Getting contents of the module\n",
    "dir(googletrans)"
   ]
  },
  {
   "cell_type": "markdown",
   "metadata": {},
   "source": [
    "## Getting help for the main module's method (translate())"
   ]
  },
  {
   "cell_type": "code",
   "execution_count": 17,
   "metadata": {},
   "outputs": [
    {
     "name": "stdout",
     "output_type": "stream",
     "text": [
      "Help on function translate in module googletrans.client:\n",
      "\n",
      "translate(self, text, dest='en', src='auto', **kwargs)\n",
      "    Translate text from source language to destination language\n",
      "    \n",
      "    :param text: The source text(s) to be translated. Batch translation is supported via sequence input.\n",
      "    :type text: UTF-8 :class:`str`; :class:`unicode`; string sequence (list, tuple, iterator, generator)\n",
      "    \n",
      "    :param dest: The language to translate the source text into.\n",
      "                 The value should be one of the language codes listed in :const:`googletrans.LANGUAGES`\n",
      "                 or one of the language names listed in :const:`googletrans.LANGCODES`.\n",
      "    :param dest: :class:`str`; :class:`unicode`\n",
      "    \n",
      "    :param src: The language of the source text.\n",
      "                The value should be one of the language codes listed in :const:`googletrans.LANGUAGES`\n",
      "                or one of the language names listed in :const:`googletrans.LANGCODES`.\n",
      "                If a language is not specified,\n",
      "                the system will attempt to identify the source language automatically.\n",
      "    :param src: :class:`str`; :class:`unicode`\n",
      "    \n",
      "    :rtype: Translated\n",
      "    :rtype: :class:`list` (when a list is passed)\n",
      "    \n",
      "    Basic usage:\n",
      "        >>> from googletrans import Translator\n",
      "        >>> translator = Translator()\n",
      "        >>> translator.translate('안녕하세요.')\n",
      "        <Translated src=ko dest=en text=Good evening. pronunciation=Good evening.>\n",
      "        >>> translator.translate('안녕하세요.', dest='ja')\n",
      "        <Translated src=ko dest=ja text=こんにちは。 pronunciation=Kon'nichiwa.>\n",
      "        >>> translator.translate('veritas lux mea', src='la')\n",
      "        <Translated src=la dest=en text=The truth is my light pronunciation=The truth is my light>\n",
      "    \n",
      "    Advanced usage:\n",
      "        >>> translations = translator.translate(['The quick brown fox', 'jumps over', 'the lazy dog'], dest='ko')\n",
      "        >>> for translation in translations:\n",
      "        ...    print(translation.origin, ' -> ', translation.text)\n",
      "        The quick brown fox  ->  빠른 갈색 여우\n",
      "        jumps over  ->  이상 점프\n",
      "        the lazy dog  ->  게으른 개\n",
      "\n"
     ]
    }
   ],
   "source": [
    "help(Translator.translate) # how to use the translate method"
   ]
  },
  {
   "cell_type": "markdown",
   "metadata": {},
   "source": [
    "## Checking the source code of the translate function"
   ]
  },
  {
   "cell_type": "code",
   "execution_count": 14,
   "metadata": {},
   "outputs": [
    {
     "name": "stdout",
     "output_type": "stream",
     "text": [
      "    def translate(self, text, dest='en', src='auto', **kwargs):\n",
      "        \"\"\"Translate text from source language to destination language\n",
      "\n",
      "        :param text: The source text(s) to be translated. Batch translation is supported via sequence input.\n",
      "        :type text: UTF-8 :class:`str`; :class:`unicode`; string sequence (list, tuple, iterator, generator)\n",
      "\n",
      "        :param dest: The language to translate the source text into.\n",
      "                     The value should be one of the language codes listed in :const:`googletrans.LANGUAGES`\n",
      "                     or one of the language names listed in :const:`googletrans.LANGCODES`.\n",
      "        :param dest: :class:`str`; :class:`unicode`\n",
      "\n",
      "        :param src: The language of the source text.\n",
      "                    The value should be one of the language codes listed in :const:`googletrans.LANGUAGES`\n",
      "                    or one of the language names listed in :const:`googletrans.LANGCODES`.\n",
      "                    If a language is not specified,\n",
      "                    the system will attempt to identify the source language automatically.\n",
      "        :param src: :class:`str`; :class:`unicode`\n",
      "\n",
      "        :rtype: Translated\n",
      "        :rtype: :class:`list` (when a list is passed)\n",
      "\n",
      "        Basic usage:\n",
      "            >>> from googletrans import Translator\n",
      "            >>> translator = Translator()\n",
      "            >>> translator.translate('안녕하세요.')\n",
      "            <Translated src=ko dest=en text=Good evening. pronunciation=Good evening.>\n",
      "            >>> translator.translate('안녕하세요.', dest='ja')\n",
      "            <Translated src=ko dest=ja text=こんにちは。 pronunciation=Kon'nichiwa.>\n",
      "            >>> translator.translate('veritas lux mea', src='la')\n",
      "            <Translated src=la dest=en text=The truth is my light pronunciation=The truth is my light>\n",
      "\n",
      "        Advanced usage:\n",
      "            >>> translations = translator.translate(['The quick brown fox', 'jumps over', 'the lazy dog'], dest='ko')\n",
      "            >>> for translation in translations:\n",
      "            ...    print(translation.origin, ' -> ', translation.text)\n",
      "            The quick brown fox  ->  빠른 갈색 여우\n",
      "            jumps over  ->  이상 점프\n",
      "            the lazy dog  ->  게으른 개\n",
      "        \"\"\"\n",
      "        dest = dest.lower().split('_', 1)[0]\n",
      "        src = src.lower().split('_', 1)[0]\n",
      "\n",
      "        if src != 'auto' and src not in LANGUAGES:\n",
      "            if src in SPECIAL_CASES:\n",
      "                src = SPECIAL_CASES[src]\n",
      "            elif src in LANGCODES:\n",
      "                src = LANGCODES[src]\n",
      "            else:\n",
      "                raise ValueError('invalid source language')\n",
      "\n",
      "        if dest not in LANGUAGES:\n",
      "            if dest in SPECIAL_CASES:\n",
      "                dest = SPECIAL_CASES[dest]\n",
      "            elif dest in LANGCODES:\n",
      "                dest = LANGCODES[dest]\n",
      "            else:\n",
      "                raise ValueError('invalid destination language')\n",
      "\n",
      "        if isinstance(text, list):\n",
      "            result = []\n",
      "            for item in text:\n",
      "                translated = self.translate(item, dest=dest, src=src, **kwargs)\n",
      "                result.append(translated)\n",
      "            return result\n",
      "\n",
      "        origin = text\n",
      "        data = self._translate(text, dest, src, kwargs)\n",
      "\n",
      "        # this code will be updated when the format is changed.\n",
      "        translated = ''.join([d[0] if d[0] else '' for d in data[0]])\n",
      "\n",
      "        extra_data = self._parse_extra_data(data)\n",
      "\n",
      "        # actual source language that will be recognized by Google Translator when the\n",
      "        # src passed is equal to auto.\n",
      "        try:\n",
      "            src = data[2]\n",
      "        except Exception:  # pragma: nocover\n",
      "            pass\n",
      "\n",
      "        pron = origin\n",
      "        try:\n",
      "            pron = data[0][1][-2]\n",
      "        except Exception:  # pragma: nocover\n",
      "            pass\n",
      "\n",
      "        if pron is None:\n",
      "            try:\n",
      "                pron = data[0][1][2]\n",
      "            except:  # pragma: nocover\n",
      "                pass\n",
      "\n",
      "        if dest in EXCLUDES and pron == origin:\n",
      "            pron = translated\n",
      "\n",
      "        # put final values into a new Translated object\n",
      "        result = Translated(src=src, dest=dest, origin=origin,\n",
      "                            text=translated, pronunciation=pron, extra_data=extra_data)\n",
      "\n",
      "        return result\n",
      "\n"
     ]
    }
   ],
   "source": [
    "### Getting the source code of the translate method in the Translaor Class of GoogleTrans API\n",
    "import inspect\n",
    "code = inspect.getsource(Translator.translate)\n",
    "print(code)"
   ]
  },
  {
   "cell_type": "markdown",
   "metadata": {},
   "source": [
    "## Advanced Usage"
   ]
  },
  {
   "cell_type": "code",
   "execution_count": 20,
   "metadata": {},
   "outputs": [
    {
     "name": "stdout",
     "output_type": "stream",
     "text": [
      "Fox  ->  لومڑی\n",
      "Dog  ->  کتا\n",
      "I love Animals  ->  مجھے جانوروں سے پیار ہے\n"
     ]
    }
   ],
   "source": [
    "words = ['Fox', 'Dog', 'I love Animals'] # list of words \n",
    "translations = translator.translate(words, dest='ur')\n",
    "for translation in translations:\n",
    "    print(translation.origin, ' -> ', translation.text)"
   ]
  },
  {
   "cell_type": "markdown",
   "metadata": {},
   "source": [
    "## Translating a text from external file"
   ]
  },
  {
   "cell_type": "code",
   "execution_count": 22,
   "metadata": {},
   "outputs": [],
   "source": [
    "demo = 'text.txt' # my source file written in English\n",
    "f = open(demo, 'r') # read mode"
   ]
  },
  {
   "cell_type": "code",
   "execution_count": 24,
   "metadata": {},
   "outputs": [
    {
     "name": "stdout",
     "output_type": "stream",
     "text": [
      "I am Qaiser Abbas.\n",
      "I am an applied AI researcher working on Computer Vision, Deep Learning, Image Recognition and Object Detection.\n",
      "This is just a demo file for checking the capability of Google Translate API.\n"
     ]
    }
   ],
   "source": [
    "content = f.read()\n",
    "print(content)"
   ]
  },
  {
   "cell_type": "code",
   "execution_count": 30,
   "metadata": {},
   "outputs": [],
   "source": [
    "from googletrans import Translator\n",
    "\n",
    "translate = Translator()"
   ]
  },
  {
   "cell_type": "code",
   "execution_count": 43,
   "metadata": {},
   "outputs": [
    {
     "name": "stdout",
     "output_type": "stream",
     "text": [
      "Je suis Qaiser Abbas.\n",
      "Je suis un chercheur en IA appliquée travaillant sur la vision par ordinateur, l'apprentissage profond, la reconnaissance d'images et la détection d'objets.\n",
      "Ceci est juste un fichier de démonstration pour vérifier la capacité de l'API Google Translate.\n"
     ]
    }
   ],
   "source": [
    "result = translate.translate(content, dest='fr') # French\n",
    "print(result.text)"
   ]
  },
  {
   "cell_type": "code",
   "execution_count": 35,
   "metadata": {},
   "outputs": [
    {
     "name": "stdout",
     "output_type": "stream",
     "text": [
      "Soy Qaiser Abbas.\n",
      "Soy un investigador de IA aplicada que trabaja en visión artificial, aprendizaje profundo, reconocimiento de imágenes y detección de objetos.\n",
      "Este es solo un archivo de demostración para verificar la capacidad de la API de Google Translate.\n"
     ]
    }
   ],
   "source": [
    "result = file_translate.translate(content, dest='es')\n",
    "print(result.text)"
   ]
  },
  {
   "cell_type": "code",
   "execution_count": 41,
   "metadata": {},
   "outputs": [
    {
     "name": "stdout",
     "output_type": "stream",
     "text": [
      "میں قیصر عباس ہوں۔\n",
      "میں کمپیوٹر کا وژن ، ڈیپ لرننگ ، امیج کی پہچان اور آبجیکٹ کی کھوج پر کام کرنے والے ایک اے آئی کا ماہر محقق ہوں۔\n",
      "گوگل ٹرانسلیشن API کی صلاحیت کی جانچ کرنے کے لئے یہ صرف ایک ڈیمو فائل ہے۔\n"
     ]
    }
   ],
   "source": [
    "result = file_translate.translate(content, dest='ur')\n",
    "print(result.text)"
   ]
  },
  {
   "cell_type": "code",
   "execution_count": 38,
   "metadata": {},
   "outputs": [
    {
     "name": "stdout",
     "output_type": "stream",
     "text": [
      "أنا قيصر عباس.\n",
      "أنا باحث في مجال الذكاء الاصطناعي التطبيقي أعمل على رؤية الكمبيوتر والتعلم العميق والتعرف على الصور واكتشاف الكائنات.\n",
      "هذا مجرد ملف تجريبي للتحقق من قدرة Google Translate API.\n"
     ]
    }
   ],
   "source": [
    "result = file_translate.translate(content, dest='ar')\n",
    "print(result.text)"
   ]
  },
  {
   "cell_type": "code",
   "execution_count": 39,
   "metadata": {},
   "outputs": [
    {
     "name": "stdout",
     "output_type": "stream",
     "text": [
      "मैं क़ैसर अब्बास हूँ।\n",
      "मैं कंप्यूटर विजन, डीप लर्निंग, इमेज रिकॉग्निशन और ऑब्जेक्ट डिटेक्शन पर काम करने वाला एक एआई शोधार्थी हूं।\n",
      "यह Google अनुवाद API की क्षमता की जाँच के लिए एक डेमो फ़ाइल है।\n"
     ]
    }
   ],
   "source": [
    "result = file_translate.translate(content, dest='hi')\n",
    "print(result.text)"
   ]
  },
  {
   "cell_type": "markdown",
   "metadata": {},
   "source": [
    "## Writing it to output.txt"
   ]
  },
  {
   "cell_type": "code",
   "execution_count": 36,
   "metadata": {},
   "outputs": [],
   "source": [
    "out = 'output.txt' #Spanish output\n",
    "with open(out, 'w') as f:\n",
    "    f.write(result.text) "
   ]
  },
  {
   "cell_type": "code",
   "execution_count": 44,
   "metadata": {},
   "outputs": [],
   "source": [
    "out = 'outputFrench.txt' #French output\n",
    "with open(out, 'w') as f:\n",
    "    f.write(result.text) "
   ]
  },
  {
   "cell_type": "code",
   "execution_count": null,
   "metadata": {},
   "outputs": [],
   "source": []
  }
 ],
 "metadata": {
  "kernelspec": {
   "display_name": "Python 3",
   "language": "python",
   "name": "python3"
  },
  "language_info": {
   "codemirror_mode": {
    "name": "ipython",
    "version": 3
   },
   "file_extension": ".py",
   "mimetype": "text/x-python",
   "name": "python",
   "nbconvert_exporter": "python",
   "pygments_lexer": "ipython3",
   "version": "3.7.5"
  }
 },
 "nbformat": 4,
 "nbformat_minor": 2
}
